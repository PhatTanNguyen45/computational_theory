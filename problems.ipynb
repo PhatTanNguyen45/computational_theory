{
 "cells": [
  {
   "cell_type": "markdown",
   "id": "12db3f80",
   "metadata": {},
   "source": [
    "# Computaional Theory Problems"
   ]
  },
  {
   "cell_type": "markdown",
   "id": "1e2db7eb",
   "metadata": {},
   "source": [
    "# Problem 1 — Binary Words and Bitwise Operations\n",
    "\n",
    "This notebook implements the core 32-bit logic functions defined in the **Secure Hash Standard (FIPS PUB 180-4, § 4.1.2)**.\n",
    "These functions are used in the SHA-256 algorithm to combine 32-bit words with rotations, shifts, and Boolean operations.\n",
    "\n",
    "The goal is to:\n",
    "1. Build helper functions that safely handle 32-bit operations in NumPy.\n",
    "2. Implement `Parity`, `Ch`, `Maj`, `Σ₀`, `Σ₁`, `σ₀`, and `σ₁`.\n",
    "3. Document and explain each step clearly.\n"
   ]
  },
  {
   "cell_type": "markdown",
   "id": "9012e006",
   "metadata": {},
   "source": [
    "### Step 1 – Secure 32-bit Helpers\n",
    "We use NumPy’s `uint32` type to enforce 32-bit behavior.\n",
    "The helper functions `_to_u32`, `_rotr`, and `_shr` guarantee logical rotation and right-shift operations.\n"
   ]
  },
  {
   "cell_type": "code",
   "execution_count": 31,
   "id": "1fb39d76",
   "metadata": {},
   "outputs": [],
   "source": [
    "import numpy as np\n",
    "from typing import Union\n",
    "\n",
    "Word = np.uint32\n",
    "\n",
    "# Force value to 32-bit unsigned word\n",
    "def _to_u32(x: Union[int, np.integer]) -> Word:\n",
    "    return Word(int(x) & 0xFFFFFFFF)\n",
    "\n",
    "# Rotate-right 32-bit x by n\n",
    "def _rotr(x: Word, n: int) -> Word:\n",
    "    x = _to_u32(x); n = int(n) % 32\n",
    "    if n == 0:\n",
    "        return x\n",
    "    return _to_u32((x >> n) | (x << Word(32 - n)))\n",
    "\n",
    "# Logical right shift 32-bit x by n (zero-fill)\n",
    "def _shr(x: Word, n: int) -> Word:\n",
    "    x = _to_u32(x); n = int(n) % 32\n",
    "    return _to_u32(x >> n)"
   ]
  },
  {
   "cell_type": "markdown",
   "id": "7ca51d67",
   "metadata": {},
   "source": [
    "### Step 2 – Boolean Functions\n",
    "These operations mix three 32-bit words using logical bit rules:\n",
    "- **Parity(x,y,z)** = x ⊕ y ⊕ z  \n",
    "- **Ch(x,y,z)** = (x ∧ y) ⊕ (¬x ∧ z)  \n",
    "- **Maj(x,y,z)** = (x ∧ y) ⊕ (x ∧ z) ⊕ (y ∧ z)\n"
   ]
  },
  {
   "cell_type": "code",
   "execution_count": 32,
   "id": "821dd66d",
   "metadata": {},
   "outputs": [],
   "source": [
    "# Parity(x,y,z): XOR from 32-bit ( SHA-1 parity)\n",
    "def Parity(x, y, z) -> Word:\n",
    "    return _to_u32(_to_u32(x) ^ _to_u32(y) ^ _to_u32(z))\n",
    "\n",
    "# Ch(x,y,z): (x & y) ^ (~x & z) — pick bit from y if bit x =1, otherwise z\n",
    "def Ch(x, y, z) -> Word:\n",
    "    x, y, z = _to_u32(x), _to_u32(y), _to_u32(z)\n",
    "    return _to_u32((x & y) ^ ((~x) & z))\n",
    "\n",
    "# Maj (Eq. 4.3): (x & y) ^ (x & z) ^ (y & z) — majority base on each bit\n",
    "def Maj(x, y, z) -> Word:\n",
    "    x, y, z = _to_u32(x), _to_u32(y), _to_u32(z)\n",
    "    return _to_u32((x & y) ^ (x & z) ^ (y & z))\n"
   ]
  },
  {
   "cell_type": "markdown",
   "id": "86955cf2",
   "metadata": {},
   "source": [
    "### Step 3 – Σ and σ Functions\n",
    "These are rotation/shift-based transformations defined in FIPS 180-4:\n",
    "- **Σ₀(x)** = ROTR² ⊕ ROTR¹³ ⊕ ROTR²²  \n",
    "- **Σ₁(x)** = ROTR⁶ ⊕ ROTR¹¹ ⊕ ROTR²⁵  \n",
    "- **σ₀(x)** = ROTR⁷ ⊕ ROTR¹⁸ ⊕ SHR³  \n",
    "- **σ₁(x)** = ROTR¹⁷ ⊕ ROTR¹⁹ ⊕ SHR¹⁰\n"
   ]
  },
  {
   "cell_type": "code",
   "execution_count": 33,
   "id": "f1395bb7",
   "metadata": {},
   "outputs": [],
   "source": [
    "# Σ₀: ROTR² ⊕ ROTR¹³ ⊕ ROTR²²\n",
    "def Sigma0(x) -> Word:\n",
    "    x = _to_u32(x)\n",
    "    return _to_u32(_rotr(x, 2) ^ _rotr(x, 13) ^ _rotr(x, 22))\n",
    "\n",
    "# Σ₁: ROTR⁶ ⊕ ROTR¹¹ ⊕ ROTR²⁵\n",
    "def Sigma1(x) -> Word:\n",
    "    x = _to_u32(x)\n",
    "    return _to_u32(_rotr(x, 6) ^ _rotr(x, 11) ^ _rotr(x, 25))\n",
    "\n",
    "# σ₀: ROTR⁷ ⊕ ROTR¹⁸ ⊕ SHR³\n",
    "def sigma0(x) -> Word:\n",
    "    x = _to_u32(x)\n",
    "    return _to_u32(_rotr(x, 7) ^ _rotr(x, 18) ^ _shr(x, 3))\n",
    "\n",
    "# σ₁: ROTR¹⁷ ⊕ ROTR¹⁹ ⊕ SHR¹⁰\n",
    "def sigma1(x) -> Word:\n",
    "    x = _to_u32(x)\n",
    "    return _to_u32(_rotr(x, 17) ^ _rotr(x, 19) ^ _shr(x, 10))\n"
   ]
  },
  {
   "cell_type": "markdown",
   "id": "c8b48fec",
   "metadata": {},
   "source": [
    "### Step 4 – Demonstration with Fixed Values\n",
    "We test the functions using example 32-bit words from the SHA-256 initial values.\n"
   ]
  },
  {
   "cell_type": "code",
   "execution_count": 34,
   "id": "ef57af5a",
   "metadata": {},
   "outputs": [
    {
     "name": "stdout",
     "output_type": "stream",
     "text": [
      "===== INPUT VALUES =====\n",
      "x = 0x6a09e667\n",
      "y = 0x12345678\n",
      "z = 0xdeadbeef\n",
      "\n",
      "===== LOGIC FUNCTIONS =====\n",
      "Parity(x, y, z) = 0xa6900ef0\n",
      "Ch(x, y, z)     = 0x96a45ee8\n",
      "Maj(x, y, z)    = 0x5a2df66f\n",
      "\n",
      "===== SIGMA FUNCTIONS =====\n",
      "Sigma0(x) = 0xce20b47e\n",
      "Sigma1(x) = 0x55b65510\n",
      "sigma0(x) = 0xba0cf582\n",
      "sigma1(x) = 0xcfe5da3c\n"
     ]
    }
   ],
   "source": [
    "# Predefined 32-bit demo inputs\n",
    "x = np.uint32(0x6a09e667)\n",
    "y = np.uint32(0x12345678)\n",
    "z = np.uint32(0xdeadbeef)\n",
    "\n",
    "print(\"===== INPUT VALUES =====\")\n",
    "print(f\"x = {hex(int(x))}\")\n",
    "print(f\"y = {hex(int(y))}\")\n",
    "print(f\"z = {hex(int(z))}\")\n",
    "\n",
    "print(\"\\n===== LOGIC FUNCTIONS =====\")\n",
    "print(f\"Parity(x, y, z) = {hex(int(Parity(x, y, z)))}\")\n",
    "print(f\"Ch(x, y, z)     = {hex(int(Ch(x, y, z)))}\")\n",
    "print(f\"Maj(x, y, z)    = {hex(int(Maj(x, y, z)))}\")\n",
    "\n",
    "print(\"\\n===== SIGMA FUNCTIONS =====\")\n",
    "print(f\"Sigma0(x) = {hex(int(Sigma0(x)))}\")\n",
    "print(f\"Sigma1(x) = {hex(int(Sigma1(x)))}\")\n",
    "print(f\"sigma0(x) = {hex(int(sigma0(x)))}\")\n",
    "print(f\"sigma1(x) = {hex(int(sigma1(x)))}\")\n"
   ]
  },
  {
   "cell_type": "markdown",
   "id": "ceafd31d",
   "metadata": {},
   "source": [
    "### Step 5 – Reflection and Research Discussion\n",
    "According to **FIPS PUB 180-4** (NIST, 2015), these functions form the\n",
    "non-linear mixing stage of SHA-256.  \n",
    "Each rotation and shift ensures diffusion and bit independence.\n",
    "\n",
    "Sources:\n",
    "- [NIST FIPS 180-4 (2015) — Secure Hash Standard](https://nvlpubs.nist.gov/nistpubs/FIPS/NIST.FIPS.180-4.pdf)\n",
    "- Numpy documentation on [Unsigned integer types](https://numpy.org/doc/stable/reference/arrays.scalars.html#numpy.uint32)\n"
   ]
  },
  {
   "cell_type": "markdown",
   "id": "d183ed70",
   "metadata": {},
   "source": [
    "# Problem 2 — Fractional Parts of Cube Roots\n",
    "\n",
    "The goal of this problem is to compute the **64 constants K₀ – K₆₃** used in the **SHA-256** hashing algorithm, as defined in  \n",
    "**FIPS PUB 180-4 (§ 4.2.2 – SHA-224 and SHA-256 Constants)**.  \n",
    "Each constant is obtained by taking the **first 32 bits of the fractional part** of the cube root of the first 64 prime numbers.\n",
    "\n",
    "These constants are fundamental for the *message schedule* and *compression function* of SHA-256, ensuring strong diffusion and independence between rounds.\n",
    "\n",
    "\n"
   ]
  },
  {
   "cell_type": "markdown",
   "id": "ec40e0bf",
   "metadata": {},
   "source": [
    "### Step 1: Generate the first 64 prime numbers"
   ]
  },
  {
   "cell_type": "code",
   "execution_count": 35,
   "id": "884a12b2",
   "metadata": {},
   "outputs": [],
   "source": [
    "import numpy as np\n",
    "from typing import List\n",
    "\n",
    "# Generate the first `n` prime numbers using a dynamic sieve of Eratosthenes.\n",
    "def primes(n: int) -> np.ndarray:\n",
    " \n",
    "    # If user asks for less than 1 prime, return an empty array\n",
    "    if n < 1:\n",
    "        return np.array([], dtype=int)\n",
    "\n",
    "    # Estimate an upper bound for the nth prime.\n",
    "    # For small n, we just pick a small constant.\n",
    "    # For larger n, we use the prime number theorem approximation:\n",
    "    #   nth prime ≈ n * (log n + log log n)\n",
    "    if n < 6:\n",
    "        bound = 15\n",
    "    else:\n",
    "        nf = float(n)\n",
    "        bound = int(nf * (np.log(nf) + np.log(np.log(nf))) + 50)  # add small buffer\n",
    "\n",
    "    # Inner helper function: sieve of Eratosthenes up to `limit`\n",
    "    def sieve(limit: int) -> List[int]:\n",
    "        # Create boolean array representing numbers 0..limit (True = prime)\n",
    "        arr = np.ones(limit + 1, dtype=bool)\n",
    "        arr[:2] = False  # 0 and 1 are not prime\n",
    "\n",
    "        # Eliminate non-prime numbers by marking multiples as False\n",
    "        for p in range(2, int(limit**0.5) + 1):\n",
    "            if arr[p]:\n",
    "                arr[p*p:limit+1:p] = False  # mark all multiples of p\n",
    "\n",
    "        # Return list of primes found\n",
    "        return np.flatnonzero(arr).tolist()\n",
    "\n",
    "    # Generate primes up to the current bound\n",
    "    ps = sieve(bound)\n",
    "\n",
    "    # If not enough primes, double the bound and try again until we have n primes\n",
    "    while len(ps) < n:\n",
    "        bound *= 2\n",
    "        ps = sieve(bound)\n",
    "\n",
    "    # Return only the first n primes as numpy array\n",
    "    return np.array(ps[:n], dtype=int)\n"
   ]
  },
  {
   "cell_type": "markdown",
   "id": "1e70551d",
   "metadata": {},
   "source": [
    "### Step 2: Cube roots of the first 64 primes\n"
   ]
  },
  {
   "cell_type": "code",
   "execution_count": 36,
   "id": "014b93db",
   "metadata": {},
   "outputs": [],
   "source": [
    "def cube_root_constants(n: int = 64) -> np.ndarray:\n",
    "    # Generate n primes. \n",
    "    p = primes(n).astype(np.float64)\n",
    "    # Compute cube roots using NumPy (float64 precision).\n",
    "    roots = np.cbrt(p)    \n",
    "    # Take fractional part (root − floor(root)).                       \n",
    "    frac  = roots - np.floor(roots)\n",
    "    # Multiply by 2^32 and floor to integer.            \n",
    "    scaled = np.floor(frac * (2**32))\n",
    "    # Cast to np.uint32 to enforce 32-bit size.         \n",
    "    return scaled.astype(np.uint32)"
   ]
  },
  {
   "cell_type": "markdown",
   "id": "a16535ee",
   "metadata": {},
   "source": [
    "### Step 3: Display results in hex and verify"
   ]
  },
  {
   "cell_type": "code",
   "execution_count": 37,
   "id": "52f08592",
   "metadata": {},
   "outputs": [],
   "source": [
    "def display_constants(k_values: np.ndarray) -> None:\n",
    "\n",
    "    # Convert each constant in k_values to an 8-digit lowercase hexadecimal string.\n",
    "    # Example: 1116352408 → \"428a2f98\"\n",
    "    hex_vals = [f\"{int(v):08x}\" for v in k_values]\n",
    "\n",
    "    # The official list of 64 constants from the SHA-256 standard (FIPS 180-4 §4.2.2)\n",
    "    ref_hex = [\n",
    "        \"428a2f98\",\"71374491\",\"b5c0fbcf\",\"e9b5dba5\",\"3956c25b\",\"59f111f1\",\"923f82a4\",\"ab1c5ed5\",\n",
    "        \"d807aa98\",\"12835b01\",\"243185be\",\"550c7dc3\",\"72be5d74\",\"80deb1fe\",\"9bdc06a7\",\"c19bf174\",\n",
    "        \"e49b69c1\",\"efbe4786\",\"0fc19dc6\",\"240ca1cc\",\"2de92c6f\",\"4a7484aa\",\"5cb0a9dc\",\"76f988da\",\n",
    "        \"983e5152\",\"a831c66d\",\"b00327c8\",\"bf597fc7\",\"c6e00bf3\",\"d5a79147\",\"06ca6351\",\"14292967\",\n",
    "        \"27b70a85\",\"2e1b2138\",\"4d2c6dfc\",\"53380d13\",\"650a7354\",\"766a0abb\",\"81c2c92e\",\"92722c85\",\n",
    "        \"a2bfe8a1\",\"a81a664b\",\"c24b8b70\",\"c76c51a3\",\"d192e819\",\"d6990624\",\"f40e3585\",\"106aa070\",\n",
    "        \"19a4c116\",\"1e376c08\",\"2748774c\",\"34b0bcb5\",\"391c0cb3\",\"4ed8aa4a\",\"5b9cca4f\",\"682e6ff3\",\n",
    "        \"748f82ee\",\"78a5636f\",\"84c87814\",\"8cc70208\",\"90befffa\",\"a4506ceb\",\"bef9a3f7\",\"c67178f2\",\n",
    "    ]\n",
    "\n",
    "    # Compare each calculated constant with the official reference\n",
    "    matches = [calc == ref for calc, ref in zip(hex_vals, ref_hex)]\n",
    "    all_match = all(matches)  # True if all 64 match perfectly\n",
    "\n",
    "    # Print formatted constants\n",
    "    print(\"===== SHA-256 Constants (K[0..63]) =====\")\n",
    "    for i, hx in enumerate(hex_vals):\n",
    "        print(f\"K[{i:02}] = 0x{hx}\")\n",
    "\n",
    "    # Print verification summary\n",
    "    print(\"\\nAll 64 constants match FIPS 180-4 reference:\", all_match)\n"
   ]
  },
  {
   "cell_type": "markdown",
   "id": "c6f152f0",
   "metadata": {},
   "source": [
    "### Step 4: Main execution"
   ]
  },
  {
   "cell_type": "code",
   "execution_count": 38,
   "id": "bcd10ad0",
   "metadata": {},
   "outputs": [
    {
     "name": "stdout",
     "output_type": "stream",
     "text": [
      "===== SHA-256 Constants (K[0..63]) =====\n",
      "K[00] = 0x428a2f98\n",
      "K[01] = 0x71374491\n",
      "K[02] = 0xb5c0fbcf\n",
      "K[03] = 0xe9b5dba5\n",
      "K[04] = 0x3956c25b\n",
      "K[05] = 0x59f111f1\n",
      "K[06] = 0x923f82a4\n",
      "K[07] = 0xab1c5ed5\n",
      "K[08] = 0xd807aa98\n",
      "K[09] = 0x12835b01\n",
      "K[10] = 0x243185be\n",
      "K[11] = 0x550c7dc3\n",
      "K[12] = 0x72be5d74\n",
      "K[13] = 0x80deb1fe\n",
      "K[14] = 0x9bdc06a7\n",
      "K[15] = 0xc19bf174\n",
      "K[16] = 0xe49b69c1\n",
      "K[17] = 0xefbe4786\n",
      "K[18] = 0x0fc19dc6\n",
      "K[19] = 0x240ca1cc\n",
      "K[20] = 0x2de92c6f\n",
      "K[21] = 0x4a7484aa\n",
      "K[22] = 0x5cb0a9dc\n",
      "K[23] = 0x76f988da\n",
      "K[24] = 0x983e5152\n",
      "K[25] = 0xa831c66d\n",
      "K[26] = 0xb00327c8\n",
      "K[27] = 0xbf597fc7\n",
      "K[28] = 0xc6e00bf3\n",
      "K[29] = 0xd5a79147\n",
      "K[30] = 0x06ca6351\n",
      "K[31] = 0x14292967\n",
      "K[32] = 0x27b70a85\n",
      "K[33] = 0x2e1b2138\n",
      "K[34] = 0x4d2c6dfc\n",
      "K[35] = 0x53380d13\n",
      "K[36] = 0x650a7354\n",
      "K[37] = 0x766a0abb\n",
      "K[38] = 0x81c2c92e\n",
      "K[39] = 0x92722c85\n",
      "K[40] = 0xa2bfe8a1\n",
      "K[41] = 0xa81a664b\n",
      "K[42] = 0xc24b8b70\n",
      "K[43] = 0xc76c51a3\n",
      "K[44] = 0xd192e819\n",
      "K[45] = 0xd6990624\n",
      "K[46] = 0xf40e3585\n",
      "K[47] = 0x106aa070\n",
      "K[48] = 0x19a4c116\n",
      "K[49] = 0x1e376c08\n",
      "K[50] = 0x2748774c\n",
      "K[51] = 0x34b0bcb5\n",
      "K[52] = 0x391c0cb3\n",
      "K[53] = 0x4ed8aa4a\n",
      "K[54] = 0x5b9cca4f\n",
      "K[55] = 0x682e6ff3\n",
      "K[56] = 0x748f82ee\n",
      "K[57] = 0x78a5636f\n",
      "K[58] = 0x84c87814\n",
      "K[59] = 0x8cc70208\n",
      "K[60] = 0x90befffa\n",
      "K[61] = 0xa4506ceb\n",
      "K[62] = 0xbef9a3f7\n",
      "K[63] = 0xc67178f2\n",
      "\n",
      "All 64 constants match FIPS 180-4 reference: True\n"
     ]
    }
   ],
   "source": [
    "if __name__ == \"__main__\":\n",
    "    # Step 1: Generate constants — each K[i] = fractional part of (prime_i)^(1/3) * 2^32\n",
    "    # The cube_root_constants() function handles this math.\n",
    "    K = cube_root_constants(64)\n",
    "\n",
    "    # Step 2: Display and verify all constants.\n",
    "    # This will print K[0..63] in hex and confirm whether they match\n",
    "    # the official SHA-256 specification.\n",
    "    display_constants(K)\n"
   ]
  },
  {
   "cell_type": "markdown",
   "id": "4b92ae36",
   "metadata": {},
   "source": [
    "\n",
    "### References\n",
    "\n",
    "- **NIST FIPS PUB 180-4 (2015)** – *Secure Hash Standard (SHS)*.  \n",
    "  [https://nvlpubs.nist.gov/nistpubs/FIPS/NIST.FIPS.180-4.pdf](https://nvlpubs.nist.gov/nistpubs/FIPS/NIST.FIPS.180-4.pdf)  \n",
    "- **NumPy Documentation** – [Unsigned integer types (`numpy.uint32`)](https://numpy.org/doc/stable/reference/arrays.scalars.html#numpy.uint32)  \n",
    "- Rosser, J.B., & Schoenfeld, L. (1962). Approximate formulas for some functions of prime numbers.  \n",
    "- FIPS Annex A – Table of Constants for SHA-224 and SHA-256.  \n"
   ]
  },
  {
   "cell_type": "markdown",
   "id": "7125c5d9",
   "metadata": {
    "vscode": {
     "languageId": "plaintext"
    }
   },
   "source": [
    "## Problem 3: Padding"
   ]
  },
  {
   "cell_type": "markdown",
   "id": "0a523e42",
   "metadata": {},
   "source": [
    "### Core Requirements\n",
    "1. Function Type: Write a Python generator function (using yield).\n",
    "2. Input: The function accepts a bytes object named msg.\n",
    "3. Standard Compliance: The function must process the message according to Section 5.1.1 (Padding the Message) and Section 5.2.1 (Parsing the Message) of the Secure Hash Standard (FIPS PUB 180-4). These sections apply to SHA-1, SHA-224, and SHA-256.\n",
    "4. Block Size: For these algorithms, the block size is 512 bits.\n",
    "5. Output: At each iteration, the generator should yield the next 512-bit block of the padded message as a bytes object"
   ]
  },
  {
   "cell_type": "markdown",
   "id": "0fbdcef1",
   "metadata": {},
   "source": [
    "#### Yield 512-bit (64-byte) blocks of `msg` with SHA-1/SHA-224/SHA-256 padding, per FIPS 180-4 §5.1.1 (Padding the Message) and §5.2.1 (Parsing the Message).\n",
    "\n",
    "    Padding rules (for 512-bit block algorithms):\n",
    "      1) append a single '1' bit (0x80),\n",
    "      2) append k '0' bits so total length ≡ 448 (mod 512),\n",
    "      3) append 64-bit big-endian integer = original message length in bits.\n",
    "\n",
    "    The generator yields each 64-byte block as `bytes`."
   ]
  },
  {
   "cell_type": "code",
   "execution_count": 39,
   "id": "776e883f",
   "metadata": {},
   "outputs": [],
   "source": [
    "def block_parse(msg: bytes):\n",
    "    ml_bytes = len(msg)\n",
    "    ml_bits = ml_bytes * 8\n",
    "    print(f\"Original message length: {ml_bytes} bytes ({ml_bits} bits)\")\n",
    "\n",
    "    # Yield all full 512-bit blocks from the message first\n",
    "    i = 0\n",
    "    while i + 64 <= ml_bytes:\n",
    "        block = msg[i:i+64]\n",
    "        print(f\"Block {i//64 + 1}: {block.hex()}\")\n",
    "        yield block\n",
    "        i += 64\n",
    "\n",
    "    # ---- Padding phase ----\n",
    "    tail = msg[i:] + b'\\x80'                       # Step 1: append '1' bit (10000000)\n",
    "    pad_zeros = (56 - (len(tail) % 64)) % 64       # Step 2: pad zeros until ≡ 56 mod 64\n",
    "    tail += b'\\x00' * pad_zeros\n",
    "    tail += ml_bits.to_bytes(8, 'big')             # Step 3: append 64-bit message length\n",
    "\n",
    "    print(f\"After padding: total {len(tail)} bytes, \"\n",
    "          f\"last 8 bytes = {ml_bits.to_bytes(8, 'big').hex()}\")\n",
    "\n",
    "    # ---- Yield final padded blocks ----\n",
    "    for j in range(0, len(tail), 64):\n",
    "        block = tail[j:j+64]\n",
    "        print(f\"Padded Block {i//64 + (j//64) + 1}: {block.hex()}\")\n",
    "        yield block\n"
   ]
  },
  {
   "cell_type": "code",
   "execution_count": 40,
   "id": "3cd9d3d4",
   "metadata": {},
   "outputs": [
    {
     "name": "stdout",
     "output_type": "stream",
     "text": [
      "Original message length: 0 bytes (0 bits)\n",
      "After padding: total 64 bytes, last 8 bytes = 0000000000000000\n",
      "Padded Block 1: 80000000000000000000000000000000000000000000000000000000000000000000000000000000000000000000000000000000000000000000000000000000\n",
      "Original message length: 3 bytes (24 bits)\n",
      "After padding: total 64 bytes, last 8 bytes = 0000000000000018\n",
      "Padded Block 1: 61626380000000000000000000000000000000000000000000000000000000000000000000000000000000000000000000000000000000000000000000000018\n",
      "Original message length: 56 bytes (448 bits)\n",
      "After padding: total 128 bytes, last 8 bytes = 00000000000001c0\n",
      "Padded Block 1: 41414141414141414141414141414141414141414141414141414141414141414141414141414141414141414141414141414141414141418000000000000000\n",
      "Padded Block 2: 000000000000000000000000000000000000000000000000000000000000000000000000000000000000000000000000000000000000000000000000000001c0\n",
      "Original message length: 64 bytes (512 bits)\n",
      "Block 1: 42424242424242424242424242424242424242424242424242424242424242424242424242424242424242424242424242424242424242424242424242424242\n",
      "After padding: total 64 bytes, last 8 bytes = 0000000000000200\n",
      "Padded Block 2: 80000000000000000000000000000000000000000000000000000000000000000000000000000000000000000000000000000000000000000000000000000200\n"
     ]
    }
   ],
   "source": [
    "def hex_blocks(blocks):\n",
    "    return [b.hex() for b in blocks]\n",
    "\n",
    "# 0) Empty message\n",
    "blocks = list(block_parse(b\"\"))\n",
    "assert len(blocks) == 1\n",
    "# First byte 0x80, last 8 bytes = 0x...0000 (length=0)\n",
    "assert blocks[0][0] == 0x80 and blocks[0][-8:] == (0).to_bytes(8, 'big')\n",
    "\n",
    "# 1) \"abc\" (24 bits)\n",
    "blocks = list(block_parse(b\"abc\"))\n",
    "assert len(blocks) == 1\n",
    "assert blocks[0][-8:] == (24).to_bytes(8, 'big')  # 0x...0018\n",
    "\n",
    "# 2) 56-byte input → must produce TWO blocks (because 0x80 won’t fit with length in the same block)\n",
    "blocks = list(block_parse(b\"A\"*56))\n",
    "assert len(blocks) == 2\n",
    "# Last 8 bytes of final block = 56*8 bits\n",
    "assert blocks[-1][-8:] == (56*8).to_bytes(8, 'big')\n",
    "\n",
    "# 3) 64-byte input → also two blocks (first is raw 64, second is pure padding+length)\n",
    "blocks = list(block_parse(b\"B\"*64))\n",
    "assert len(blocks) == 2\n",
    "assert blocks[-1][-8:] == (64*8).to_bytes(8, 'big')\n",
    "\n"
   ]
  },
  {
   "cell_type": "markdown",
   "id": "b834b7bb",
   "metadata": {},
   "source": [
    "## Problem 4: Hashes"
   ]
  },
  {
   "cell_type": "code",
   "execution_count": 41,
   "id": "aa1bc33e",
   "metadata": {},
   "outputs": [
    {
     "data": {
      "text/plain": [
       "1"
      ]
     },
     "execution_count": 41,
     "metadata": {},
     "output_type": "execute_result"
    }
   ],
   "source": [
    "1"
   ]
  },
  {
   "cell_type": "markdown",
   "id": "1fda1d78",
   "metadata": {
    "vscode": {
     "languageId": "plaintext"
    }
   },
   "source": [
    "## Problem 5: Passwords"
   ]
  },
  {
   "cell_type": "code",
   "execution_count": 42,
   "id": "23cabfdd",
   "metadata": {},
   "outputs": [
    {
     "data": {
      "text/plain": [
       "1"
      ]
     },
     "execution_count": 42,
     "metadata": {},
     "output_type": "execute_result"
    }
   ],
   "source": [
    "1"
   ]
  }
 ],
 "metadata": {
  "kernelspec": {
   "display_name": "Python 3",
   "language": "python",
   "name": "python3"
  },
  "language_info": {
   "codemirror_mode": {
    "name": "ipython",
    "version": 3
   },
   "file_extension": ".py",
   "mimetype": "text/x-python",
   "name": "python",
   "nbconvert_exporter": "python",
   "pygments_lexer": "ipython3",
   "version": "3.12.1"
  }
 },
 "nbformat": 4,
 "nbformat_minor": 5
}
