{
 "cells": [
  {
   "cell_type": "markdown",
   "id": "12db3f80",
   "metadata": {},
   "source": [
    "# Computaional Theory Problems"
   ]
  },
  {
   "cell_type": "markdown",
   "id": "1e2db7eb",
   "metadata": {},
   "source": [
    "# Problem 1 — Binary Words and Bitwise Operations\n",
    "\n",
    "This notebook implements the core 32-bit logic functions defined in the **Secure Hash Standard (FIPS PUB 180-4, § 4.1.2)**.\n",
    "These functions are used in the SHA-256 algorithm to combine 32-bit words with rotations, shifts, and Boolean operations.\n",
    "\n",
    "The goal is to:\n",
    "1. Build helper functions that safely handle 32-bit operations in NumPy.\n",
    "2. Implement `Parity`, `Ch`, `Maj`, `Σ₀`, `Σ₁`, `σ₀`, and `σ₁`.\n",
    "3. Document and explain each step clearly.\n"
   ]
  },
  {
   "cell_type": "markdown",
   "id": "9012e006",
   "metadata": {},
   "source": [
    "### Step 1 – Secure 32-bit Helpers\n",
    "We use NumPy’s `uint32` type to enforce 32-bit behavior.\n",
    "The helper functions `_to_u32`, `_rotr`, and `_shr` guarantee logical rotation and right-shift operations.\n"
   ]
  },
  {
   "cell_type": "code",
   "execution_count": 32,
   "id": "1fb39d76",
   "metadata": {},
   "outputs": [],
   "source": [
    "import numpy as np\n",
    "from typing import Union\n",
    "\n",
    "Word = np.uint32\n",
    "\n",
    "def _to_u32(x: Union[int, np.integer]) -> Word:\n",
    "    \"\"\"Force value to 32-bit unsigned word.\"\"\"\n",
    "    return Word(int(x) & 0xFFFFFFFF)\n",
    "\n",
    "def _rotr(x: Word, n: int) -> Word:\n",
    "    \"\"\"Rotate-right 32-bit x by n.\"\"\"\n",
    "    x = _to_u32(x); n = int(n) % 32\n",
    "    if n == 0:\n",
    "        return x\n",
    "    return _to_u32((x >> n) | (x << Word(32 - n)))\n",
    "\n",
    "def _shr(x: Word, n: int) -> Word:\n",
    "    \"\"\"Logical right shift 32-bit x by n (zero-fill).\"\"\"\n",
    "    x = _to_u32(x); n = int(n) % 32\n",
    "    return _to_u32(x >> n)"
   ]
  },
  {
   "cell_type": "markdown",
   "id": "7ca51d67",
   "metadata": {},
   "source": [
    "### Step 2 – Boolean Functions\n",
    "These operations mix three 32-bit words using logical bit rules:\n",
    "- **Parity(x,y,z)** = x ⊕ y ⊕ z  \n",
    "- **Ch(x,y,z)** = (x ∧ y) ⊕ (¬x ∧ z)  \n",
    "- **Maj(x,y,z)** = (x ∧ y) ⊕ (x ∧ z) ⊕ (y ∧ z)\n"
   ]
  },
  {
   "cell_type": "code",
   "execution_count": 33,
   "id": "821dd66d",
   "metadata": {},
   "outputs": [],
   "source": [
    "def Parity(x, y, z) -> Word:\n",
    "    \"\"\"Parity(x,y,z): XOR from 32-bit ( SHA-1 parity).\"\"\"\n",
    "    return _to_u32(_to_u32(x) ^ _to_u32(y) ^ _to_u32(z))\n",
    "\n",
    "def Ch(x, y, z) -> Word:\n",
    "    \"\"\"Ch (Eq. 4.2): (x & y) ^ (~x & z) — pick bit from y if bit x =1, otherwise z.\"\"\"\n",
    "    x, y, z = _to_u32(x), _to_u32(y), _to_u32(z)\n",
    "    return _to_u32((x & y) ^ ((~x) & z))\n",
    "\n",
    "def Maj(x, y, z) -> Word:\n",
    "    \"\"\"Maj (Eq. 4.3): (x & y) ^ (x & z) ^ (y & z) — majority base on each bit.\"\"\"\n",
    "    x, y, z = _to_u32(x), _to_u32(y), _to_u32(z)\n",
    "    return _to_u32((x & y) ^ (x & z) ^ (y & z))\n"
   ]
  },
  {
   "cell_type": "markdown",
   "id": "86955cf2",
   "metadata": {},
   "source": [
    "### Step 3 – Σ and σ Functions\n",
    "These are rotation/shift-based transformations defined in FIPS 180-4:\n",
    "- **Σ₀(x)** = ROTR² ⊕ ROTR¹³ ⊕ ROTR²²  \n",
    "- **Σ₁(x)** = ROTR⁶ ⊕ ROTR¹¹ ⊕ ROTR²⁵  \n",
    "- **σ₀(x)** = ROTR⁷ ⊕ ROTR¹⁸ ⊕ SHR³  \n",
    "- **σ₁(x)** = ROTR¹⁷ ⊕ ROTR¹⁹ ⊕ SHR¹⁰\n"
   ]
  },
  {
   "cell_type": "code",
   "execution_count": null,
   "id": "f1395bb7",
   "metadata": {},
   "outputs": [],
   "source": [
    "def Sigma0(x) -> Word:\n",
    "    \"\"\"Σ₀: ROTR² ⊕ ROTR¹³ ⊕ ROTR²².\"\"\"\n",
    "    x = _to_u32(x)\n",
    "    return _to_u32(_rotr(x, 2) ^ _rotr(x, 13) ^ _rotr(x, 22))\n",
    "\n",
    "def Sigma1(x) -> Word:\n",
    "    \"\"\"Σ₁: ROTR⁶ ⊕ ROTR¹¹ ⊕ ROTR²⁵.\"\"\"\n",
    "    x = _to_u32(x)\n",
    "    return _to_u32(_rotr(x, 6) ^ _rotr(x, 11) ^ _rotr(x, 25))\n",
    "\n",
    "def sigma0(x) -> Word:\n",
    "    \"\"\"σ₀: ROTR⁷ ⊕ ROTR¹⁸ ⊕ SHR³.\"\"\"\n",
    "    x = _to_u32(x)\n",
    "    return _to_u32(_rotr(x, 7) ^ _rotr(x, 18) ^ _shr(x, 3))\n",
    "\n",
    "def sigma1(x) -> Word:\n",
    "    \"\"\"σ₁: ROTR¹⁷ ⊕ ROTR¹⁹ ⊕ SHR¹⁰.\"\"\"\n",
    "    x = _to_u32(x)\n",
    "    return _to_u32(_rotr(x, 17) ^ _rotr(x, 19) ^ _shr(x, 10))\n"
   ]
  },
  {
   "cell_type": "markdown",
   "id": "c8b48fec",
   "metadata": {},
   "source": [
    "### Step 4 – Demonstration with Fixed Values\n",
    "We test the functions using example 32-bit words from the SHA-256 initial values.\n"
   ]
  },
  {
   "cell_type": "code",
   "execution_count": 43,
   "id": "ef57af5a",
   "metadata": {},
   "outputs": [
    {
     "name": "stdout",
     "output_type": "stream",
     "text": [
      "===== INPUT VALUES =====\n",
      "x = 0x6a09e667\n",
      "y = 0x12345678\n",
      "z = 0xdeadbeef\n",
      "\n",
      "===== LOGIC FUNCTIONS =====\n",
      "Parity(x, y, z) = 0xa6900ef0\n",
      "Ch(x, y, z)     = 0x96a45ee8\n",
      "Maj(x, y, z)    = 0x5a2df66f\n",
      "\n",
      "===== SIGMA FUNCTIONS =====\n",
      "Sigma0(x) = 0xce20b47e\n",
      "Sigma1(x) = 0x55b65510\n",
      "sigma0(x) = 0xba0cf582\n",
      "sigma1(x) = 0xcfe5da3c\n"
     ]
    }
   ],
   "source": [
    "# Predefined 32-bit demo inputs\n",
    "x = np.uint32(0x6a09e667)  # constant from SHA-256 IV\n",
    "y = np.uint32(0x12345678)\n",
    "z = np.uint32(0xdeadbeef)\n",
    "\n",
    "print(\"===== INPUT VALUES =====\")\n",
    "print(f\"x = {hex(int(x))}\")\n",
    "print(f\"y = {hex(int(y))}\")\n",
    "print(f\"z = {hex(int(z))}\")\n",
    "\n",
    "print(\"\\n===== LOGIC FUNCTIONS =====\")\n",
    "print(f\"Parity(x, y, z) = {hex(int(Parity(x, y, z)))}\")\n",
    "print(f\"Ch(x, y, z)     = {hex(int(Ch(x, y, z)))}\")\n",
    "print(f\"Maj(x, y, z)    = {hex(int(Maj(x, y, z)))}\")\n",
    "\n",
    "print(\"\\n===== SIGMA FUNCTIONS =====\")\n",
    "print(f\"Sigma0(x) = {hex(int(Sigma0(x)))}\")\n",
    "print(f\"Sigma1(x) = {hex(int(Sigma1(x)))}\")\n",
    "print(f\"sigma0(x) = {hex(int(sigma0(x)))}\")\n",
    "print(f\"sigma1(x) = {hex(int(sigma1(x)))}\")\n"
   ]
  },
  {
   "cell_type": "markdown",
   "id": "ceafd31d",
   "metadata": {},
   "source": [
    "### Step 5 – Reflection and Research Discussion\n",
    "According to **FIPS PUB 180-4** (NIST, 2015), these functions form the\n",
    "non-linear mixing stage of SHA-256.  \n",
    "Each rotation and shift ensures diffusion and bit independence.\n",
    "\n",
    "Sources:\n",
    "- [NIST FIPS 180-4 (2015) — Secure Hash Standard](https://nvlpubs.nist.gov/nistpubs/FIPS/NIST.FIPS.180-4.pdf)\n",
    "- Numpy documentation on [Unsigned integer types](https://numpy.org/doc/stable/reference/arrays.scalars.html#numpy.uint32)\n"
   ]
  },
  {
   "cell_type": "markdown",
   "id": "d183ed70",
   "metadata": {},
   "source": [
    "## Problem 2: Fractional Parts of Cube Roots"
   ]
  },
  {
   "cell_type": "code",
   "execution_count": 37,
   "id": "52f08592",
   "metadata": {},
   "outputs": [
    {
     "data": {
      "text/plain": [
       "1"
      ]
     },
     "execution_count": 37,
     "metadata": {},
     "output_type": "execute_result"
    }
   ],
   "source": [
    "1"
   ]
  },
  {
   "cell_type": "markdown",
   "id": "7125c5d9",
   "metadata": {
    "vscode": {
     "languageId": "plaintext"
    }
   },
   "source": [
    "## Problem 3: Padding"
   ]
  },
  {
   "cell_type": "code",
   "execution_count": 38,
   "id": "776e883f",
   "metadata": {},
   "outputs": [
    {
     "data": {
      "text/plain": [
       "1"
      ]
     },
     "execution_count": 38,
     "metadata": {},
     "output_type": "execute_result"
    }
   ],
   "source": [
    "1"
   ]
  },
  {
   "cell_type": "markdown",
   "id": "b834b7bb",
   "metadata": {},
   "source": [
    "## Problem 4: Hashes"
   ]
  },
  {
   "cell_type": "code",
   "execution_count": 39,
   "id": "aa1bc33e",
   "metadata": {},
   "outputs": [
    {
     "data": {
      "text/plain": [
       "1"
      ]
     },
     "execution_count": 39,
     "metadata": {},
     "output_type": "execute_result"
    }
   ],
   "source": [
    "1"
   ]
  },
  {
   "cell_type": "markdown",
   "id": "1fda1d78",
   "metadata": {
    "vscode": {
     "languageId": "plaintext"
    }
   },
   "source": [
    "## Problem 5: Passwords"
   ]
  },
  {
   "cell_type": "code",
   "execution_count": 40,
   "id": "23cabfdd",
   "metadata": {},
   "outputs": [
    {
     "data": {
      "text/plain": [
       "1"
      ]
     },
     "execution_count": 40,
     "metadata": {},
     "output_type": "execute_result"
    }
   ],
   "source": [
    "1"
   ]
  }
 ],
 "metadata": {
  "kernelspec": {
   "display_name": "Python 3",
   "language": "python",
   "name": "python3"
  },
  "language_info": {
   "codemirror_mode": {
    "name": "ipython",
    "version": 3
   },
   "file_extension": ".py",
   "mimetype": "text/x-python",
   "name": "python",
   "nbconvert_exporter": "python",
   "pygments_lexer": "ipython3",
   "version": "3.12.1"
  }
 },
 "nbformat": 4,
 "nbformat_minor": 5
}
