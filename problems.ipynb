{
 "cells": [
  {
   "cell_type": "markdown",
   "id": "12db3f80",
   "metadata": {},
   "source": [
    "# Computaional Theory Problems"
   ]
  },
  {
   "cell_type": "markdown",
   "id": "3d6197d4",
   "metadata": {},
   "source": [
    "## Problem 1: Binary Words and Operations   "
   ]
  },
  {
   "cell_type": "markdown",
   "id": "1e2db7eb",
   "metadata": {},
   "source": [
    "### Write helper to secure 32-bit"
   ]
  },
  {
   "cell_type": "code",
   "execution_count": 32,
   "id": "1fb39d76",
   "metadata": {},
   "outputs": [],
   "source": [
    "import numpy as np\n",
    "from typing import Union\n",
    "\n",
    "Word = np.uint32\n",
    "\n",
    "def _to_u32(x: Union[int, np.integer]) -> Word:\n",
    "    \"\"\"Force value to 32-bit unsigned word.\"\"\"\n",
    "    return Word(int(x) & 0xFFFFFFFF)\n",
    "\n",
    "def _rotr(x: Word, n: int) -> Word:\n",
    "    \"\"\"Rotate-right 32-bit x by n.\"\"\"\n",
    "    x = _to_u32(x); n = int(n) % 32\n",
    "    if n == 0:\n",
    "        return x\n",
    "    return _to_u32((x >> n) | (x << Word(32 - n)))\n",
    "\n",
    "def _shr(x: Word, n: int) -> Word:\n",
    "    \"\"\"Logical right shift 32-bit x by n (zero-fill).\"\"\"\n",
    "    x = _to_u32(x); n = int(n) % 32\n",
    "    return _to_u32(x >> n)"
   ]
  },
  {
   "cell_type": "markdown",
   "id": "7ca51d67",
   "metadata": {},
   "source": [
    "### Implement Parity / Ch / Maj"
   ]
  },
  {
   "cell_type": "code",
   "execution_count": 33,
   "id": "821dd66d",
   "metadata": {},
   "outputs": [],
   "source": [
    "def Parity(x, y, z) -> Word:\n",
    "    \"\"\"Parity(x,y,z): XOR from 32-bit ( SHA-1 parity).\"\"\"\n",
    "    return _to_u32(_to_u32(x) ^ _to_u32(y) ^ _to_u32(z))\n",
    "\n",
    "def Ch(x, y, z) -> Word:\n",
    "    \"\"\"Ch (Eq. 4.2): (x & y) ^ (~x & z) — pick bit from y if bit x =1, otherwise z.\"\"\"\n",
    "    x, y, z = _to_u32(x), _to_u32(y), _to_u32(z)\n",
    "    return _to_u32((x & y) ^ ((~x) & z))\n",
    "\n",
    "def Maj(x, y, z) -> Word:\n",
    "    \"\"\"Maj (Eq. 4.3): (x & y) ^ (x & z) ^ (y & z) — majority base on each bit.\"\"\"\n",
    "    x, y, z = _to_u32(x), _to_u32(y), _to_u32(z)\n",
    "    return _to_u32((x & y) ^ (x & z) ^ (y & z))\n"
   ]
  },
  {
   "cell_type": "markdown",
   "id": "86955cf2",
   "metadata": {},
   "source": [
    "### Implement Big Sigma (Σ0, Σ1)"
   ]
  },
  {
   "cell_type": "code",
   "execution_count": 34,
   "id": "f1395bb7",
   "metadata": {},
   "outputs": [],
   "source": [
    "def Sigma0(x) -> Word:\n",
    "    r\"\"\"Σ0_256 (Eq. 4.4): ROTR^2(x) ^ ROTR^13(x) ^ ROTR^22(x)\"\"\"\n",
    "    x = _to_u32(x)\n",
    "    return _to_u32(_rotr(x, 2) ^ _rotr(x, 13) ^ _rotr(x, 22))\n",
    "\n",
    "def Sigma1(x) -> Word:\n",
    "    r\"\"\"Σ1_256 (Eq. 4.5): ROTR^6(x) ^ ROTR^11(x) ^ ROTR^25(x)\"\"\"\n",
    "    x = _to_u32(x)\n",
    "    return _to_u32(_rotr(x, 6) ^ _rotr(x, 11) ^ _rotr(x, 25))\n"
   ]
  },
  {
   "cell_type": "markdown",
   "id": "94efb7c9",
   "metadata": {},
   "source": [
    "### Implement Small sigma (σ0, σ1)"
   ]
  },
  {
   "cell_type": "code",
   "execution_count": 35,
   "id": "53b05df2",
   "metadata": {},
   "outputs": [],
   "source": [
    "def sigma0(x) -> Word:\n",
    "    r\"\"\"σ0_256 (Eq. 4.6): ROTR^7(x) ^ ROTR^18(x) ^ SHR^3(x)\"\"\"\n",
    "    x = _to_u32(x)\n",
    "    return _to_u32(_rotr(x, 7) ^ _rotr(x, 18) ^ _shr(x, 3))\n",
    "\n",
    "def sigma1(x) -> Word:\n",
    "    r\"\"\"σ1_256 (Eq. 4.7): ROTR^17(x) ^ ROTR^19(x) ^ SHR^10(x)\"\"\"\n",
    "    x = _to_u32(x)\n",
    "    return _to_u32(_rotr(x, 17) ^ _rotr(x, 19) ^ _shr(x, 10))\n"
   ]
  },
  {
   "cell_type": "markdown",
   "id": "c8b48fec",
   "metadata": {},
   "source": [
    "### Writing test case"
   ]
  },
  {
   "cell_type": "code",
   "execution_count": 36,
   "id": "ef57af5a",
   "metadata": {},
   "outputs": [
    {
     "name": "stdout",
     "output_type": "stream",
     "text": [
      "===== INPUT VALUES =====\n",
      "x = 0x6a09e667\n",
      "y = 0x12345678\n",
      "z = 0xdeadbeef\n",
      "\n",
      "===== LOGIC FUNCTIONS =====\n",
      "Parity(x, y, z) = 0xa6900ef0   # Bitwise XOR of all three\n",
      "Ch(x, y, z)     = 0x96a45ee8   # Choose: (x & y) ^ (~x & z)\n",
      "Maj(x, y, z)    = 0x5a2df66f   # Majority: (x & y) ^ (x & z) ^ (y & z)\n",
      "\n",
      "===== SIGMA FUNCTIONS =====\n",
      "Sigma0(x) = 0xce20b47e   # Σ0: ROTR2 ^ ROTR13 ^ ROTR22\n",
      "Sigma1(x) = 0x55b65510   # Σ1: ROTR6 ^ ROTR11 ^ ROTR25\n",
      "sigma0(x) = 0xba0cf582   # σ0: ROTR7 ^ ROTR18 ^ SHR3\n",
      "sigma1(x) = 0xcfe5da3c   # σ1: ROTR17 ^ ROTR19 ^ SHR10\n"
     ]
    }
   ],
   "source": [
    "# --- Predefined 32-bit input values for demonstration ---\n",
    "x = np.uint32(0x6a09e667)  # example constant from SHA-256 initial hash values\n",
    "y = np.uint32(0x12345678)  # arbitrary test value\n",
    "z = np.uint32(0xdeadbeef)  # another arbitrary test value\n",
    "\n",
    "# --- Display input values ---\n",
    "print(\"===== INPUT VALUES =====\")\n",
    "print(f\"x = {hex(int(x))}\")\n",
    "print(f\"y = {hex(int(y))}\")\n",
    "print(f\"z = {hex(int(z))}\")\n",
    "\n",
    "# --- Logical operation outputs ---\n",
    "# These functions define the logical core of SHA-256 as per FIPS PUB 180-4 section 4.1.2\n",
    "print(\"\\n===== LOGIC FUNCTIONS =====\")\n",
    "print(f\"Parity(x, y, z) = {hex(int(Parity(x, y, z)))}   # Bitwise XOR of all three\")\n",
    "print(f\"Ch(x, y, z)     = {hex(int(Ch(x, y, z)))}   # Choose: (x & y) ^ (~x & z)\")\n",
    "print(f\"Maj(x, y, z)    = {hex(int(Maj(x, y, z)))}   # Majority: (x & y) ^ (x & z) ^ (y & z)\")\n",
    "\n",
    "# --- Sigma functions ---\n",
    "# These are the rotation and shift based functions used in SHA-256 compression\n",
    "print(\"\\n===== SIGMA FUNCTIONS =====\")\n",
    "print(f\"Sigma0(x) = {hex(int(Sigma0(x)))}   # Σ0: ROTR2 ^ ROTR13 ^ ROTR22\")\n",
    "print(f\"Sigma1(x) = {hex(int(Sigma1(x)))}   # Σ1: ROTR6 ^ ROTR11 ^ ROTR25\")\n",
    "print(f\"sigma0(x) = {hex(int(sigma0(x)))}   # σ0: ROTR7 ^ ROTR18 ^ SHR3\")\n",
    "print(f\"sigma1(x) = {hex(int(sigma1(x)))}   # σ1: ROTR17 ^ ROTR19 ^ SHR10\")"
   ]
  },
  {
   "cell_type": "markdown",
   "id": "d183ed70",
   "metadata": {},
   "source": [
    "## Problem 2: Fractional Parts of Cube Roots"
   ]
  },
  {
   "cell_type": "code",
   "execution_count": 37,
   "id": "52f08592",
   "metadata": {},
   "outputs": [
    {
     "data": {
      "text/plain": [
       "1"
      ]
     },
     "execution_count": 37,
     "metadata": {},
     "output_type": "execute_result"
    }
   ],
   "source": [
    "1"
   ]
  },
  {
   "cell_type": "markdown",
   "id": "7125c5d9",
   "metadata": {
    "vscode": {
     "languageId": "plaintext"
    }
   },
   "source": [
    "## Problem 3: Padding"
   ]
  },
  {
   "cell_type": "code",
   "execution_count": 38,
   "id": "776e883f",
   "metadata": {},
   "outputs": [
    {
     "data": {
      "text/plain": [
       "1"
      ]
     },
     "execution_count": 38,
     "metadata": {},
     "output_type": "execute_result"
    }
   ],
   "source": [
    "1"
   ]
  },
  {
   "cell_type": "markdown",
   "id": "b834b7bb",
   "metadata": {},
   "source": [
    "## Problem 4: Hashes"
   ]
  },
  {
   "cell_type": "code",
   "execution_count": 39,
   "id": "aa1bc33e",
   "metadata": {},
   "outputs": [
    {
     "data": {
      "text/plain": [
       "1"
      ]
     },
     "execution_count": 39,
     "metadata": {},
     "output_type": "execute_result"
    }
   ],
   "source": [
    "1"
   ]
  },
  {
   "cell_type": "markdown",
   "id": "1fda1d78",
   "metadata": {
    "vscode": {
     "languageId": "plaintext"
    }
   },
   "source": [
    "## Problem 5: Passwords"
   ]
  },
  {
   "cell_type": "code",
   "execution_count": 40,
   "id": "23cabfdd",
   "metadata": {},
   "outputs": [
    {
     "data": {
      "text/plain": [
       "1"
      ]
     },
     "execution_count": 40,
     "metadata": {},
     "output_type": "execute_result"
    }
   ],
   "source": [
    "1"
   ]
  }
 ],
 "metadata": {
  "kernelspec": {
   "display_name": "Python 3",
   "language": "python",
   "name": "python3"
  },
  "language_info": {
   "codemirror_mode": {
    "name": "ipython",
    "version": 3
   },
   "file_extension": ".py",
   "mimetype": "text/x-python",
   "name": "python",
   "nbconvert_exporter": "python",
   "pygments_lexer": "ipython3",
   "version": "3.12.1"
  }
 },
 "nbformat": 4,
 "nbformat_minor": 5
}
