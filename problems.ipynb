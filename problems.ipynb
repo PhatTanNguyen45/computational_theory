{
 "cells": [
  {
   "cell_type": "markdown",
   "id": "12db3f80",
   "metadata": {},
   "source": [
    "# Computaional Theory Problems"
   ]
  },
  {
   "cell_type": "markdown",
   "id": "1e2db7eb",
   "metadata": {},
   "source": [
    "# Problem 1 — Binary Words and Bitwise Operations\n",
    "\n",
    "This notebook implements the core 32-bit logic functions defined in the **Secure Hash Standard (FIPS PUB 180-4, § 4.1.2)**.\n",
    "These functions are used in the SHA-256 algorithm to combine 32-bit words with rotations, shifts, and Boolean operations.\n",
    "\n",
    "The goal is to:\n",
    "1. Build helper functions that safely handle 32-bit operations in NumPy.\n",
    "2. Implement `Parity`, `Ch`, `Maj`, `Σ₀`, `Σ₁`, `σ₀`, and `σ₁`.\n",
    "3. Document and explain each step clearly.\n"
   ]
  },
  {
   "cell_type": "markdown",
   "id": "9012e006",
   "metadata": {},
   "source": [
    "### Step 1 – Secure 32-bit Helpers\n",
    "We use NumPy’s `uint32` type to enforce 32-bit behavior.\n",
    "The helper functions `_to_u32`, `_rotr`, and `_shr` guarantee logical rotation and right-shift operations.\n"
   ]
  },
  {
   "cell_type": "code",
   "execution_count": 46,
   "id": "1fb39d76",
   "metadata": {},
   "outputs": [],
   "source": [
    "import numpy as np\n",
    "from typing import Union\n",
    "\n",
    "Word = np.uint32\n",
    "\n",
    "def _to_u32(x: Union[int, np.integer]) -> Word:\n",
    "    \"\"\"Force value to 32-bit unsigned word.\"\"\"\n",
    "    return Word(int(x) & 0xFFFFFFFF)\n",
    "\n",
    "def _rotr(x: Word, n: int) -> Word:\n",
    "    \"\"\"Rotate-right 32-bit x by n.\"\"\"\n",
    "    x = _to_u32(x); n = int(n) % 32\n",
    "    if n == 0:\n",
    "        return x\n",
    "    return _to_u32((x >> n) | (x << Word(32 - n)))\n",
    "\n",
    "def _shr(x: Word, n: int) -> Word:\n",
    "    \"\"\"Logical right shift 32-bit x by n (zero-fill).\"\"\"\n",
    "    x = _to_u32(x); n = int(n) % 32\n",
    "    return _to_u32(x >> n)"
   ]
  },
  {
   "cell_type": "markdown",
   "id": "7ca51d67",
   "metadata": {},
   "source": [
    "### Step 2 – Boolean Functions\n",
    "These operations mix three 32-bit words using logical bit rules:\n",
    "- **Parity(x,y,z)** = x ⊕ y ⊕ z  \n",
    "- **Ch(x,y,z)** = (x ∧ y) ⊕ (¬x ∧ z)  \n",
    "- **Maj(x,y,z)** = (x ∧ y) ⊕ (x ∧ z) ⊕ (y ∧ z)\n"
   ]
  },
  {
   "cell_type": "code",
   "execution_count": 47,
   "id": "821dd66d",
   "metadata": {},
   "outputs": [],
   "source": [
    "def Parity(x, y, z) -> Word:\n",
    "    \"\"\"Parity(x,y,z): XOR from 32-bit ( SHA-1 parity).\"\"\"\n",
    "    return _to_u32(_to_u32(x) ^ _to_u32(y) ^ _to_u32(z))\n",
    "\n",
    "def Ch(x, y, z) -> Word:\n",
    "    \"\"\"Ch (Eq. 4.2): (x & y) ^ (~x & z) — pick bit from y if bit x =1, otherwise z.\"\"\"\n",
    "    x, y, z = _to_u32(x), _to_u32(y), _to_u32(z)\n",
    "    return _to_u32((x & y) ^ ((~x) & z))\n",
    "\n",
    "def Maj(x, y, z) -> Word:\n",
    "    \"\"\"Maj (Eq. 4.3): (x & y) ^ (x & z) ^ (y & z) — majority base on each bit.\"\"\"\n",
    "    x, y, z = _to_u32(x), _to_u32(y), _to_u32(z)\n",
    "    return _to_u32((x & y) ^ (x & z) ^ (y & z))\n"
   ]
  },
  {
   "cell_type": "markdown",
   "id": "86955cf2",
   "metadata": {},
   "source": [
    "### Step 3 – Σ and σ Functions\n",
    "These are rotation/shift-based transformations defined in FIPS 180-4:\n",
    "- **Σ₀(x)** = ROTR² ⊕ ROTR¹³ ⊕ ROTR²²  \n",
    "- **Σ₁(x)** = ROTR⁶ ⊕ ROTR¹¹ ⊕ ROTR²⁵  \n",
    "- **σ₀(x)** = ROTR⁷ ⊕ ROTR¹⁸ ⊕ SHR³  \n",
    "- **σ₁(x)** = ROTR¹⁷ ⊕ ROTR¹⁹ ⊕ SHR¹⁰\n"
   ]
  },
  {
   "cell_type": "code",
   "execution_count": 48,
   "id": "f1395bb7",
   "metadata": {},
   "outputs": [],
   "source": [
    "def Sigma0(x) -> Word:\n",
    "    \"\"\"Σ₀: ROTR² ⊕ ROTR¹³ ⊕ ROTR²².\"\"\"\n",
    "    x = _to_u32(x)\n",
    "    return _to_u32(_rotr(x, 2) ^ _rotr(x, 13) ^ _rotr(x, 22))\n",
    "\n",
    "def Sigma1(x) -> Word:\n",
    "    \"\"\"Σ₁: ROTR⁶ ⊕ ROTR¹¹ ⊕ ROTR²⁵.\"\"\"\n",
    "    x = _to_u32(x)\n",
    "    return _to_u32(_rotr(x, 6) ^ _rotr(x, 11) ^ _rotr(x, 25))\n",
    "\n",
    "def sigma0(x) -> Word:\n",
    "    \"\"\"σ₀: ROTR⁷ ⊕ ROTR¹⁸ ⊕ SHR³.\"\"\"\n",
    "    x = _to_u32(x)\n",
    "    return _to_u32(_rotr(x, 7) ^ _rotr(x, 18) ^ _shr(x, 3))\n",
    "\n",
    "def sigma1(x) -> Word:\n",
    "    \"\"\"σ₁: ROTR¹⁷ ⊕ ROTR¹⁹ ⊕ SHR¹⁰.\"\"\"\n",
    "    x = _to_u32(x)\n",
    "    return _to_u32(_rotr(x, 17) ^ _rotr(x, 19) ^ _shr(x, 10))\n"
   ]
  },
  {
   "cell_type": "markdown",
   "id": "c8b48fec",
   "metadata": {},
   "source": [
    "### Step 4 – Demonstration with Fixed Values\n",
    "We test the functions using example 32-bit words from the SHA-256 initial values.\n"
   ]
  },
  {
   "cell_type": "code",
   "execution_count": 49,
   "id": "ef57af5a",
   "metadata": {},
   "outputs": [
    {
     "name": "stdout",
     "output_type": "stream",
     "text": [
      "===== INPUT VALUES =====\n",
      "x = 0x6a09e667\n",
      "y = 0x12345678\n",
      "z = 0xdeadbeef\n",
      "\n",
      "===== LOGIC FUNCTIONS =====\n",
      "Parity(x, y, z) = 0xa6900ef0\n",
      "Ch(x, y, z)     = 0x96a45ee8\n",
      "Maj(x, y, z)    = 0x5a2df66f\n",
      "\n",
      "===== SIGMA FUNCTIONS =====\n",
      "Sigma0(x) = 0xce20b47e\n",
      "Sigma1(x) = 0x55b65510\n",
      "sigma0(x) = 0xba0cf582\n",
      "sigma1(x) = 0xcfe5da3c\n"
     ]
    }
   ],
   "source": [
    "# Predefined 32-bit demo inputs\n",
    "x = np.uint32(0x6a09e667)  # constant from SHA-256 IV\n",
    "y = np.uint32(0x12345678)\n",
    "z = np.uint32(0xdeadbeef)\n",
    "\n",
    "print(\"===== INPUT VALUES =====\")\n",
    "print(f\"x = {hex(int(x))}\")\n",
    "print(f\"y = {hex(int(y))}\")\n",
    "print(f\"z = {hex(int(z))}\")\n",
    "\n",
    "print(\"\\n===== LOGIC FUNCTIONS =====\")\n",
    "print(f\"Parity(x, y, z) = {hex(int(Parity(x, y, z)))}\")\n",
    "print(f\"Ch(x, y, z)     = {hex(int(Ch(x, y, z)))}\")\n",
    "print(f\"Maj(x, y, z)    = {hex(int(Maj(x, y, z)))}\")\n",
    "\n",
    "print(\"\\n===== SIGMA FUNCTIONS =====\")\n",
    "print(f\"Sigma0(x) = {hex(int(Sigma0(x)))}\")\n",
    "print(f\"Sigma1(x) = {hex(int(Sigma1(x)))}\")\n",
    "print(f\"sigma0(x) = {hex(int(sigma0(x)))}\")\n",
    "print(f\"sigma1(x) = {hex(int(sigma1(x)))}\")\n"
   ]
  },
  {
   "cell_type": "markdown",
   "id": "ceafd31d",
   "metadata": {},
   "source": [
    "### Step 5 – Reflection and Research Discussion\n",
    "According to **FIPS PUB 180-4** (NIST, 2015), these functions form the\n",
    "non-linear mixing stage of SHA-256.  \n",
    "Each rotation and shift ensures diffusion and bit independence.\n",
    "\n",
    "Sources:\n",
    "- [NIST FIPS 180-4 (2015) — Secure Hash Standard](https://nvlpubs.nist.gov/nistpubs/FIPS/NIST.FIPS.180-4.pdf)\n",
    "- Numpy documentation on [Unsigned integer types](https://numpy.org/doc/stable/reference/arrays.scalars.html#numpy.uint32)\n"
   ]
  },
  {
   "cell_type": "markdown",
   "id": "d183ed70",
   "metadata": {},
   "source": [
    "## Problem 2: Fractional Parts of Cube Roots\n",
    "This script computes the 64 SHA-256 constants K[0..63] defined in the\n",
    "Secure Hash Standard (FIPS PUB 180-4, §4.2.2).\n",
    "\n",
    "Each constant is the first 32 bits of the fractional part of the cube root\n",
    "of the first 64 prime numbers."
   ]
  },
  {
   "cell_type": "markdown",
   "id": "ec40e0bf",
   "metadata": {},
   "source": [
    "### Step 1: Generate the first 64 prime numbers"
   ]
  },
  {
   "cell_type": "code",
   "execution_count": 50,
   "id": "884a12b2",
   "metadata": {},
   "outputs": [],
   "source": [
    "import numpy as np\n",
    "from typing import List\n",
    "\n",
    "def primes(n: int) -> np.ndarray:\n",
    "    \"\"\"\n",
    "    Generate the first n prime numbers.\n",
    "    Parameters\n",
    "    n : int\n",
    "        The number of prime numbers to generate.\n",
    "    np.ndarray\n",
    "        Array of the first n primes as Python integers.\n",
    "    The upper bound is expanded if needed.\n",
    "    \"\"\"\n",
    "    if n < 1:\n",
    "        return np.array([], dtype=int)\n",
    "\n",
    "    # Rough upper bound for nth prime\n",
    "    if n < 6:\n",
    "        bound = 15\n",
    "    else:\n",
    "        nf = float(n)\n",
    "        bound = int(nf * (np.log(nf) + np.log(np.log(nf))) + 50)\n",
    "\n",
    "    def sieve(limit: int) -> List[int]:\n",
    "        arr = np.ones(limit + 1, dtype=bool)\n",
    "        arr[:2] = False\n",
    "        for p in range(2, int(limit**0.5) + 1):\n",
    "            if arr[p]:\n",
    "                arr[p*p:limit+1:p] = False\n",
    "        return np.flatnonzero(arr).tolist()\n",
    "\n",
    "    ps = sieve(bound)\n",
    "    while len(ps) < n:\n",
    "        bound *= 2\n",
    "        ps = sieve(bound)\n",
    "\n",
    "    return np.array(ps[:n], dtype=int)"
   ]
  },
  {
   "cell_type": "markdown",
   "id": "1e70551d",
   "metadata": {},
   "source": [
    "### Step 2: Cube roots of the first 64 primes\n",
    "\n",
    "    1. Generate n primes.\n",
    "\n",
    "    2. Compute cube roots using NumPy (float64 precision).\n",
    "\n",
    "    3. Take fractional part (root − floor(root)).\n",
    "\n",
    "    4. Multiply by 2^32 and floor to integer.\n",
    "\n",
    "    5. Cast to np.uint32 to enforce 32-bit size.\n",
    "    "
   ]
  },
  {
   "cell_type": "code",
   "execution_count": 51,
   "id": "014b93db",
   "metadata": {},
   "outputs": [],
   "source": [
    "def cube_root_constants(n: int = 64) -> np.ndarray:\n",
    "    \"\"\"\n",
    "    Compute 32-bit constants from fractional parts of cube roots of primes.\n",
    "    \"\"\"\n",
    "    p = primes(n).astype(np.float64)\n",
    "    roots = np.cbrt(p)                           # cube roots\n",
    "    frac  = roots - np.floor(roots)              # fractional part\n",
    "    scaled = np.floor(frac * (2**32))            # bring first 32 bits in front\n",
    "    return scaled.astype(np.uint32)"
   ]
  },
  {
   "cell_type": "markdown",
   "id": "a16535ee",
   "metadata": {},
   "source": [
    "### Step 3: Display results in hex and verify"
   ]
  },
  {
   "cell_type": "code",
   "execution_count": 52,
   "id": "52f08592",
   "metadata": {},
   "outputs": [],
   "source": [
    "def display_constants(k_values: np.ndarray) -> None:\n",
    "    \"\"\"\n",
    "    Print constants in 8-digit hexadecimal form and verify against\n",
    "    \"\"\"\n",
    "    hex_vals = [f\"{int(v):08x}\" for v in k_values]\n",
    "\n",
    "    # Official reference values from FIPS 180-4 § 4.2.2\n",
    "    ref_hex = [\n",
    "        \"428a2f98\",\"71374491\",\"b5c0fbcf\",\"e9b5dba5\",\"3956c25b\",\"59f111f1\",\"923f82a4\",\"ab1c5ed5\",\n",
    "        \"d807aa98\",\"12835b01\",\"243185be\",\"550c7dc3\",\"72be5d74\",\"80deb1fe\",\"9bdc06a7\",\"c19bf174\",\n",
    "        \"e49b69c1\",\"efbe4786\",\"0fc19dc6\",\"240ca1cc\",\"2de92c6f\",\"4a7484aa\",\"5cb0a9dc\",\"76f988da\",\n",
    "        \"983e5152\",\"a831c66d\",\"b00327c8\",\"bf597fc7\",\"c6e00bf3\",\"d5a79147\",\"06ca6351\",\"14292967\",\n",
    "        \"27b70a85\",\"2e1b2138\",\"4d2c6dfc\",\"53380d13\",\"650a7354\",\"766a0abb\",\"81c2c92e\",\"92722c85\",\n",
    "        \"a2bfe8a1\",\"a81a664b\",\"c24b8b70\",\"c76c51a3\",\"d192e819\",\"d6990624\",\"f40e3585\",\"106aa070\",\n",
    "        \"19a4c116\",\"1e376c08\",\"2748774c\",\"34b0bcb5\",\"391c0cb3\",\"4ed8aa4a\",\"5b9cca4f\",\"682e6ff3\",\n",
    "        \"748f82ee\",\"78a5636f\",\"84c87814\",\"8cc70208\",\"90befffa\",\"a4506ceb\",\"bef9a3f7\",\"c67178f2\",\n",
    "    ]\n",
    "\n",
    "    matches = [calc == ref for calc, ref in zip(hex_vals, ref_hex)]\n",
    "    all_match = all(matches)\n",
    "\n",
    "    print(\"===== SHA-256 Constants (K[0..63]) =====\")\n",
    "    for i, hx in enumerate(hex_vals):\n",
    "        print(f\"K[{i:02}] = 0x{hx}\")\n",
    "    print(\"\\nAll 64 constants match FIPS 180-4 reference:\", all_match)"
   ]
  },
  {
   "cell_type": "markdown",
   "id": "c6f152f0",
   "metadata": {},
   "source": [
    "### Step 4: Main execution"
   ]
  },
  {
   "cell_type": "code",
   "execution_count": 53,
   "id": "bcd10ad0",
   "metadata": {},
   "outputs": [
    {
     "name": "stdout",
     "output_type": "stream",
     "text": [
      "===== SHA-256 Constants (K[0..63]) =====\n",
      "K[00] = 0x428a2f98\n",
      "K[01] = 0x71374491\n",
      "K[02] = 0xb5c0fbcf\n",
      "K[03] = 0xe9b5dba5\n",
      "K[04] = 0x3956c25b\n",
      "K[05] = 0x59f111f1\n",
      "K[06] = 0x923f82a4\n",
      "K[07] = 0xab1c5ed5\n",
      "K[08] = 0xd807aa98\n",
      "K[09] = 0x12835b01\n",
      "K[10] = 0x243185be\n",
      "K[11] = 0x550c7dc3\n",
      "K[12] = 0x72be5d74\n",
      "K[13] = 0x80deb1fe\n",
      "K[14] = 0x9bdc06a7\n",
      "K[15] = 0xc19bf174\n",
      "K[16] = 0xe49b69c1\n",
      "K[17] = 0xefbe4786\n",
      "K[18] = 0x0fc19dc6\n",
      "K[19] = 0x240ca1cc\n",
      "K[20] = 0x2de92c6f\n",
      "K[21] = 0x4a7484aa\n",
      "K[22] = 0x5cb0a9dc\n",
      "K[23] = 0x76f988da\n",
      "K[24] = 0x983e5152\n",
      "K[25] = 0xa831c66d\n",
      "K[26] = 0xb00327c8\n",
      "K[27] = 0xbf597fc7\n",
      "K[28] = 0xc6e00bf3\n",
      "K[29] = 0xd5a79147\n",
      "K[30] = 0x06ca6351\n",
      "K[31] = 0x14292967\n",
      "K[32] = 0x27b70a85\n",
      "K[33] = 0x2e1b2138\n",
      "K[34] = 0x4d2c6dfc\n",
      "K[35] = 0x53380d13\n",
      "K[36] = 0x650a7354\n",
      "K[37] = 0x766a0abb\n",
      "K[38] = 0x81c2c92e\n",
      "K[39] = 0x92722c85\n",
      "K[40] = 0xa2bfe8a1\n",
      "K[41] = 0xa81a664b\n",
      "K[42] = 0xc24b8b70\n",
      "K[43] = 0xc76c51a3\n",
      "K[44] = 0xd192e819\n",
      "K[45] = 0xd6990624\n",
      "K[46] = 0xf40e3585\n",
      "K[47] = 0x106aa070\n",
      "K[48] = 0x19a4c116\n",
      "K[49] = 0x1e376c08\n",
      "K[50] = 0x2748774c\n",
      "K[51] = 0x34b0bcb5\n",
      "K[52] = 0x391c0cb3\n",
      "K[53] = 0x4ed8aa4a\n",
      "K[54] = 0x5b9cca4f\n",
      "K[55] = 0x682e6ff3\n",
      "K[56] = 0x748f82ee\n",
      "K[57] = 0x78a5636f\n",
      "K[58] = 0x84c87814\n",
      "K[59] = 0x8cc70208\n",
      "K[60] = 0x90befffa\n",
      "K[61] = 0xa4506ceb\n",
      "K[62] = 0xbef9a3f7\n",
      "K[63] = 0xc67178f2\n",
      "\n",
      "All 64 constants match FIPS 180-4 reference: True\n"
     ]
    }
   ],
   "source": [
    "if __name__ == \"__main__\":\n",
    "    K = cube_root_constants(64)\n",
    "    display_constants(K)"
   ]
  },
  {
   "cell_type": "markdown",
   "id": "7125c5d9",
   "metadata": {
    "vscode": {
     "languageId": "plaintext"
    }
   },
   "source": [
    "## Problem 3: Padding"
   ]
  },
  {
   "cell_type": "code",
   "execution_count": 38,
   "id": "776e883f",
   "metadata": {},
   "outputs": [
    {
     "data": {
      "text/plain": [
       "1"
      ]
     },
     "execution_count": 38,
     "metadata": {},
     "output_type": "execute_result"
    }
   ],
   "source": [
    "1"
   ]
  },
  {
   "cell_type": "markdown",
   "id": "b834b7bb",
   "metadata": {},
   "source": [
    "## Problem 4: Hashes"
   ]
  },
  {
   "cell_type": "code",
   "execution_count": 39,
   "id": "aa1bc33e",
   "metadata": {},
   "outputs": [
    {
     "data": {
      "text/plain": [
       "1"
      ]
     },
     "execution_count": 39,
     "metadata": {},
     "output_type": "execute_result"
    }
   ],
   "source": [
    "1"
   ]
  },
  {
   "cell_type": "markdown",
   "id": "1fda1d78",
   "metadata": {
    "vscode": {
     "languageId": "plaintext"
    }
   },
   "source": [
    "## Problem 5: Passwords"
   ]
  },
  {
   "cell_type": "code",
   "execution_count": 40,
   "id": "23cabfdd",
   "metadata": {},
   "outputs": [
    {
     "data": {
      "text/plain": [
       "1"
      ]
     },
     "execution_count": 40,
     "metadata": {},
     "output_type": "execute_result"
    }
   ],
   "source": [
    "1"
   ]
  }
 ],
 "metadata": {
  "kernelspec": {
   "display_name": "Python 3",
   "language": "python",
   "name": "python3"
  },
  "language_info": {
   "codemirror_mode": {
    "name": "ipython",
    "version": 3
   },
   "file_extension": ".py",
   "mimetype": "text/x-python",
   "name": "python",
   "nbconvert_exporter": "python",
   "pygments_lexer": "ipython3",
   "version": "3.12.1"
  }
 },
 "nbformat": 4,
 "nbformat_minor": 5
}
